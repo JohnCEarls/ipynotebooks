{
 "metadata": {
  "name": ""
 },
 "nbformat": 3,
 "nbformat_minor": 0,
 "worksheets": [
  {
   "cells": [
    {
     "cell_type": "code",
     "collapsed": true,
     "input": [
      "%pylab inline\n",
      "import boto\n",
      "import IPython.display\n",
      "from IPython.display import Image\n",
      "from IPython.display import display\n",
      "from IPython.display import HTML"
     ],
     "language": "python",
     "metadata": {
      "slideshow": {
       "slide_type": "-"
      }
     },
     "outputs": [
      {
       "output_type": "stream",
       "stream": "stdout",
       "text": [
        "Populating the interactive namespace from numpy and matplotlib\n"
       ]
      }
     ],
     "prompt_number": 25
    },
    {
     "cell_type": "markdown",
     "metadata": {},
     "source": [
      "#Lab Meeting Presentation\n",
      "##John C. Earls\n",
      "###Dec. 12 2013\n",
      "\n",
      "##How to Cloud the Clouds\n"
     ]
    },
    {
     "cell_type": "code",
     "collapsed": true,
     "input": [
      "Image(url='http://stream1.gifsoup.com/view5/2050200/teresa-palmer-explosion-o.gif' )"
     ],
     "language": "python",
     "metadata": {},
     "outputs": [
      {
       "html": [
        "<img src=\"http://stream1.gifsoup.com/view5/2050200/teresa-palmer-explosion-o.gif\"/>"
       ],
       "metadata": {},
       "output_type": "pyout",
       "prompt_number": 26,
       "text": [
        "<IPython.core.display.Image at 0x359bbd0>"
       ]
      }
     ],
     "prompt_number": 26
    },
    {
     "cell_type": "markdown",
     "metadata": {},
     "source": [
      "###It feels something like that"
     ]
    },
    {
     "cell_type": "markdown",
     "metadata": {},
     "source": [
      "##We have been using AWS for a while now\n",
      "> What have we learned?\n",
      ">> Starcluster is great"
     ]
    },
    {
     "cell_type": "code",
     "collapsed": false,
     "input": [
      "HTML('<iframe src=\"http://star.mit.edu/cluster/docs/latest/overview.html\" width=700 height=350></iframe>')"
     ],
     "language": "python",
     "metadata": {},
     "outputs": [
      {
       "html": [
        "<iframe src=\"http://star.mit.edu/cluster/docs/latest/overview.html\" width=700 height=350></iframe>"
       ],
       "metadata": {},
       "output_type": "pyout",
       "prompt_number": 27,
       "text": [
        "<IPython.core.display.HTML at 0x2bccb10>"
       ]
      }
     ],
     "prompt_number": 27
    },
    {
     "cell_type": "markdown",
     "metadata": {},
     "source": [
      "##Tags\n",
      "- Allow you to mark the purpose of your cluster.\n",
      "- eparate different projects for billing purposes.\n",
      "-"
     ]
    },
    {
     "cell_type": "markdown",
     "metadata": {},
     "source": [
      "http://github.com/JohnCEarls/starcluster-plugins\n",
      "\n",
      "    [plugin base-tgr]\n",
      "    setup_class=tagger.Tagger\n",
      "    tags=started-by:John C. Earls, mydate:[[date]], alias:[[alias]], localuser:[[localuser]]\n",
      "\n",
      "    [plugin gpu-data-tgr]\n",
      "    setup_class=tagger.Tagger\n",
      "    tags=project:HD, application:gpu-cluster, node-type: data\n",
      "    "
     ]
    },
    {
     "cell_type": "code",
     "collapsed": false,
     "input": [],
     "language": "python",
     "metadata": {},
     "outputs": []
    },
    {
     "cell_type": "markdown",
     "metadata": {},
     "source": [
      "#Spot Instances\n",
      "\n",
      "Excess capacity on Amazon that you can build on.\n",
      "Often is 10% of the cost of an On-Demand Instance."
     ]
    },
    {
     "cell_type": "code",
     "collapsed": false,
     "input": [
      "import os.path                                                                  \n",
      "from starcluster.config import StarClusterConfig                                \n",
      "from starcluster.cluster import ClusterManager                                  \n",
      "from starcluster import static                                                  \n",
      "from pprint import pprint                                                       \n",
      "from boto.exception import EC2ResponseError                                     \n",
      "from boto.ec2.connection import EC2Connection                                   \n",
      "import boto.ec2                                                                 \n",
      "import time                                                                     \n",
      "from datetime import datetime, timedelta                                        \n",
      "import dateutil.parser                                                          \n",
      "import ConfigParser                                                             \n",
      "import re  \n",
      "def getPrices(instance_type):\n",
      "    result = {}                                                                 \n",
      "    for r in boto.ec2.regions():                                                \n",
      "        try:                                                                    \n",
      "            conn = boto.ec2.connect_to_region(r.name)                           \n",
      "            for z in  conn.get_all_zones():                                     \n",
      "                end = datetime.utcnow().isoformat()                             \n",
      "                start = (datetime.utcnow() - timedelta(days=7)).isoformat()\n",
      "                                                                                        \n",
      "                sph =  conn.get_spot_price_history(start_time=start,instance_type=instance_type, availability_zone=z.name)\n",
      "                if len(sph) > 0:                                                \n",
      "                    sph                                       \n",
      "                    final =  dateutil.parser.parse(sph[0].timestamp)            \n",
      "                    time = []                                                    \n",
      "                    cost = []                                                   \n",
      "                    for s in sph:                                               \n",
      "                        a = dateutil.parser.parse(s.timestamp)                  \n",
      "                                            \n",
      "                        time.append(a)\n",
      "                        cost.append(s.price)\n",
      "                    result[z.name] = pd.Series(cost, index=time)\n",
      "        except EC2ResponseError as e:                                           \n",
      "            pass                                                                \n",
      "    return result\n",
      "\n",
      "            \n",
      "            \n",
      "            \n",
      "\n",
      "\n"
     ],
     "language": "python",
     "metadata": {},
     "outputs": []
    },
    {
     "cell_type": "code",
     "collapsed": false,
     "input": [
      "small_prices = getPrices('m1.small')\n",
      "a=small_prices\n",
      "df = pd.concat([s.resample('H') for s in a.itervalues()], join=\"outer\", axis=1)\n",
      "df.columns = a.keys()\n",
      "graph  = df.ix[:,sorted(a.keys())].boxplot(rot=90)"
     ],
     "language": "python",
     "metadata": {},
     "outputs": []
    },
    {
     "cell_type": "code",
     "collapsed": false,
     "input": [
      "a = getPrices('m2.4xlarge')\n",
      "a=high_mem\n",
      "df = pd.concat([s.resample('H') for s in a.itervalues()], join=\"outer\", axis=1)\n",
      "df.columns = a.keys()\n",
      "graph  = df.ix[:,sorted(a.keys())].boxplot(rot=90)"
     ],
     "language": "python",
     "metadata": {},
     "outputs": []
    },
    {
     "cell_type": "code",
     "collapsed": false,
     "input": [
      "a = getPrices('g2.2xlarge')\n",
      "\n",
      "df = pd.concat([s.resample('H') for s in a.itervalues()], join=\"outer\", axis=1)\n",
      "df.columns = a.keys()\n",
      "graph  = df.ix[:,sorted(a.keys())].boxplot(rot=90)"
     ],
     "language": "python",
     "metadata": {},
     "outputs": []
    },
    {
     "cell_type": "code",
     "collapsed": false,
     "input": [
      "a = getPrices('cr1.8xlarge')\n",
      "df = pd.concat([s.resample('H') for s in a.itervalues()], join=\"outer\", axis=1)\n",
      "df.columns = a.keys()\n",
      "graph  = df.ix[:,sorted(a.keys())].boxplot(rot=90)"
     ],
     "language": "python",
     "metadata": {},
     "outputs": []
    },
    {
     "cell_type": "code",
     "collapsed": false,
     "input": [
      "a = small_prices\n",
      "a = high_mem\n",
      "a = new_gpu\n",
      "a = snapper\n",
      "df = pd.concat([s.resample('H') for s in a.itervalues()], join=\"outer\", axis=1)\n",
      "df.columns = a.keys()\n",
      "graph  = df.ix[:,sorted(a.keys())].boxplot(rot=90)"
     ],
     "language": "python",
     "metadata": {},
     "outputs": []
    },
    {
     "cell_type": "code",
     "collapsed": false,
     "input": [
      "a = df.boxplot(rot=90)"
     ],
     "language": "python",
     "metadata": {},
     "outputs": []
    },
    {
     "cell_type": "code",
     "collapsed": false,
     "input": [
      "%%bash\n",
      "\n",
      "wget http://www.ryhug.com/wp-content/uploads/2012/07/AWS_ac_ra_largescale_05.jpg\n",
      "mv AWS_ac_ra_largescale_05.jpg files/"
     ],
     "language": "python",
     "metadata": {},
     "outputs": []
    },
    {
     "cell_type": "code",
     "collapsed": false,
     "input": [
      "ls"
     ],
     "language": "python",
     "metadata": {},
     "outputs": []
    },
    {
     "cell_type": "code",
     "collapsed": false,
     "input": [
      "%%bash\n",
      "mkdir /home/sgeadmin/notebooks/files\n",
      "wget http://www.ryhug.com/wp-content/uploads/2012/07/AWS_ac_ra_largescale_05.jpg\n",
      "mv AWS_ac_ra_largescale_05.jpg files/\n",
      "\n",
      "cd /home/sgeadmin\n",
      "rm -rf /home/sgeadmin/StarCluster\n",
      "pwd\n",
      "git clone gh:JohnCEarls/StarCluster.git\n",
      "cd StarCluster\n",
      "git fetch\n",
      "git checkout -b mydevelop origin/mydevelop\n",
      "git pull\n",
      "python setup.py install --user"
     ],
     "language": "python",
     "metadata": {},
     "outputs": []
    },
    {
     "cell_type": "code",
     "collapsed": false,
     "input": [
      "import pandas as pd\n",
      "small_prices = Out[41]\n",
      "a = pd.Series(small_prices['us-east-1c']['cost'], index=small_prices['us-east-1c']['time'])\n",
      "a.resample('D', how='sum')"
     ],
     "language": "python",
     "metadata": {},
     "outputs": []
    },
    {
     "cell_type": "code",
     "collapsed": false,
     "input": [
      "display(Image('files/AWS_ac_ra_largescale_05.jpg'))"
     ],
     "language": "python",
     "metadata": {},
     "outputs": []
    },
    {
     "cell_type": "code",
     "collapsed": false,
     "input": [
      "%%bash\n",
      "ipython nbconvert --to html LabMeetingPresentation.ipynb\n",
      "ls\n",
      "aws --region us-east-1 s3 cp LabMeetingPresentation.html s3://aurea-api/LabMeetingPresentation.html"
     ],
     "language": "python",
     "metadata": {},
     "outputs": []
    },
    {
     "cell_type": "markdown",
     "metadata": {},
     "source": [
      "http://aurea-api.s3-website-us-east-1.amazonaws.com/LabMeetingPresentation.html"
     ]
    },
    {
     "cell_type": "code",
     "collapsed": false,
     "input": [],
     "language": "python",
     "metadata": {},
     "outputs": []
    }
   ],
   "metadata": {}
  }
 ]
}