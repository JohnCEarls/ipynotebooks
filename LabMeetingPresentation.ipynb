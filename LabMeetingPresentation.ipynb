{
 "metadata": {
  "name": ""
 },
 "nbformat": 3,
 "nbformat_minor": 0,
 "worksheets": [
  {
   "cells": [
    {
     "cell_type": "code",
     "collapsed": false,
     "input": [
      "%pylab inline\n",
      "import boto\n",
      "import IPython.display\n",
      "from IPython.display import Image\n",
      "from IPython.display import display\n",
      "from IPython.display import HTML\n",
      "import os.path                                                                  \n",
      "from starcluster.config import StarClusterConfig                                \n",
      "from starcluster.cluster import ClusterManager                                  \n",
      "from starcluster import static                                                  \n",
      "from pprint import pprint                                                       \n",
      "from boto.exception import EC2ResponseError                                     \n",
      "from boto.ec2.connection import EC2Connection                                   \n",
      "import boto.ec2                                                                 \n",
      "import time                                                                     \n",
      "from datetime import datetime, timedelta                                        \n",
      "import dateutil.parser                                                          \n",
      "import ConfigParser                                                             \n",
      "import re \n",
      "import pandas as pd"
     ],
     "language": "python",
     "metadata": {
      "slideshow": {
       "slide_type": "-"
      }
     },
     "outputs": [
      {
       "output_type": "stream",
       "stream": "stdout",
       "text": [
        "Populating the interactive namespace from numpy and matplotlib\n"
       ]
      },
      {
       "output_type": "stream",
       "stream": "stderr",
       "text": [
        "WARNING: pylab import has clobbered these variables: ['datetime']\n",
        "`%pylab --no-import-all` prevents importing * from pylab and numpy\n"
       ]
      }
     ],
     "prompt_number": 4
    },
    {
     "cell_type": "markdown",
     "metadata": {},
     "source": [
      "<img src=\"http://ipython.org/_static/IPy_header.png\">\n",
      "#Lab Meeting Presentation\n",
      "##John C. Earls\n",
      "###Dec. 13, 2013\n",
      "\n",
      "##<img src=\"files/cloud.png\">How to Cloud the Clouds \n",
      "\n"
     ]
    },
    {
     "cell_type": "code",
     "collapsed": true,
     "input": [
      "Image(url='http://stream1.gifsoup.com/view5/2050200/teresa-palmer-explosion-o.gif')\n"
     ],
     "language": "python",
     "metadata": {},
     "outputs": [
      {
       "html": [
        "<img src=\"http://stream1.gifsoup.com/view5/2050200/teresa-palmer-explosion-o.gif\"/>"
       ],
       "metadata": {},
       "output_type": "pyout",
       "prompt_number": 7,
       "text": [
        "<IPython.core.display.Image at 0x46382d0>"
       ]
      }
     ],
     "prompt_number": 7
    },
    {
     "cell_type": "markdown",
     "metadata": {},
     "source": [
      "###It feels something like that"
     ]
    },
    {
     "cell_type": "markdown",
     "metadata": {},
     "source": [
      "##We have been using AWS for a while now \n",
      "> What have we learned?\n",
      ">> Starcluster is great<img src=\"files/EC2-Instance.png\">"
     ]
    },
    {
     "cell_type": "code",
     "collapsed": false,
     "input": [
      "HTML('<iframe src=\"http://star.mit.edu/cluster/docs/latest/overview.html\" width=700 height=350></iframe>')\n"
     ],
     "language": "python",
     "metadata": {},
     "outputs": [
      {
       "html": [
        "<iframe src=\"http://star.mit.edu/cluster/docs/latest/overview.html\" width=700 height=350></iframe>"
       ],
       "metadata": {},
       "output_type": "pyout",
       "prompt_number": 8,
       "text": [
        "<IPython.core.display.HTML at 0x46380d0>"
       ]
      }
     ],
     "prompt_number": 8
    },
    {
     "cell_type": "markdown",
     "metadata": {},
     "source": [
      "##Should Use Tags\n",
      "- Allow you to mark the purpose of your cluster.\n",
      "- Separate different projects for billing\n",
      "- Identify the creator"
     ]
    },
    {
     "cell_type": "markdown",
     "metadata": {},
     "source": [
      "http://github.com/JohnCEarls/starcluster-plugins\n",
      "\n",
      "    [plugin base-tgr]\n",
      "    setup_class=tagger.Tagger\n",
      "    tags=started-by:John C. Earls, mydate:[[date]], alias:[[alias]], localuser:[[localuser]]\n",
      "\n",
      "    [plugin gpu-data-tgr]\n",
      "    setup_class=tagger.Tagger\n",
      "    tags=project:HD, application:gpu-cluster, node-type: data\n",
      "    "
     ]
    },
    {
     "cell_type": "code",
     "collapsed": false,
     "input": [
      "import boto.ec2\n",
      "conn=boto.ec2.connect_to_region(\"us-east-1\")\n",
      "reservations = conn.get_all_instances()\n",
      "for res in reservations:\n",
      "    for inst in res.instances:\n",
      "        if 'project' in inst.tags:\n",
      "            print \"Project: %s (%s) [%s]\" % (inst.tags['project'], inst.id, inst.state)\n",
      "        else:\n",
      "            print \"No project %s [%s]\" % (inst.id, inst.state)"
     ],
     "language": "python",
     "metadata": {},
     "outputs": [
      {
       "output_type": "stream",
       "stream": "stdout",
       "text": [
        "No project i-602ce707 [stopped]\n",
        "Project: HD (i-4049dd26) [running]\n",
        "Project: HD (i-9a6491e1) [running]\n",
        "Project: HD (i-63f2e506) [running]\n"
       ]
      }
     ],
     "prompt_number": 9
    },
    {
     "cell_type": "markdown",
     "metadata": {},
     "source": [
      "#IAM <img src='files/files/IAM.png'>\n",
      "##Access management\n",
      "- Allows us to define accounts and permissions\n",
      "- What services a person(machine) can access\n",
      "\n",
      "\n",
      "https://console.aws.amazon.com/iam/home?#roles"
     ]
    },
    {
     "cell_type": "markdown",
     "metadata": {},
     "source": [
      "##For instances <img src=\"files/EC2-Instance.png\">\n",
      "I created a patch for starcluster\n",
      "https://github.com/JohnCEarls/StarCluster/tree/mydevelop\n",
      "\n",
      "Add this to your cluster config\n",
      "\n",
      "    [cluster mycluster]\n",
      "    ...\n",
      "    iam_profile = gpu-data-instance\n",
      "    ...\n",
      "Now it will run with the permissions that you configured in the IAM console.\n",
      "See me if you want to merge this. It will be something like below."
     ]
    },
    {
     "cell_type": "code",
     "collapsed": true,
     "input": [
      "%%bash\n",
      "cd /home/sgeadmin\n",
      "rm -rf /home/sgeadmin/StarCluster\n",
      "pwd\n",
      "git clone gh:JohnCEarls/StarCluster.git\n",
      "cd StarCluster\n",
      "git fetch\n",
      "git checkout -b mydevelop origin/mydevelop\n",
      "git pull\n",
      "python setup.py install --user"
     ],
     "language": "python",
     "metadata": {},
     "outputs": [
      {
       "output_type": "stream",
       "stream": "stdout",
       "text": [
        "/home/sgeadmin\n",
        "Cloning into 'StarCluster'...\n",
        "Branch mydevelop set up to track remote branch mydevelop from origin.\n",
        "Already up-to-date.\n",
        "running install\n",
        "running bdist_egg\n",
        "running egg_info\n",
        "creating StarCluster.egg-info\n",
        "writing requirements to StarCluster.egg-info/requires.txt\n",
        "writing StarCluster.egg-info/PKG-INFO\n",
        "writing top-level names to StarCluster.egg-info/top_level.txt\n",
        "writing dependency_links to StarCluster.egg-info/dependency_links.txt\n",
        "writing entry points to StarCluster.egg-info/entry_points.txt\n",
        "writing manifest file 'StarCluster.egg-info/SOURCES.txt'\n",
        "reading manifest file 'StarCluster.egg-info/SOURCES.txt'\n",
        "reading manifest template 'MANIFEST.in'\n",
        "writing manifest file 'StarCluster.egg-info/SOURCES.txt'\n",
        "installing library code to build/bdist.linux-x86_64/egg\n",
        "running install_lib\n",
        "running build_py\n",
        "creating build\n",
        "creating build/lib.linux-x86_64-2.7\n",
        "creating build/lib.linux-x86_64-2.7/starcluster\n",
        "copying starcluster/progressbar.py -> build/lib.linux-x86_64-2.7/starcluster\n",
        "copying starcluster/validators.py -> build/lib.linux-x86_64-2.7/starcluster\n",
        "copying starcluster/__init__.py -> build/lib.linux-x86_64-2.7/starcluster\n",
        "copying starcluster/config.py -> build/lib.linux-x86_64-2.7/starcluster\n",
        "copying starcluster/userdata.py -> build/lib.linux-x86_64-2.7/starcluster\n",
        "copying starcluster/static.py -> build/lib.linux-x86_64-2.7/starcluster\n",
        "copying starcluster/sshutils.py -> build/lib.linux-x86_64-2.7/starcluster\n",
        "copying starcluster/volume.py -> build/lib.linux-x86_64-2.7/starcluster\n",
        "copying starcluster/cluster.py -> build/lib.linux-x86_64-2.7/starcluster\n",
        "copying starcluster/deathrow.py -> build/lib.linux-x86_64-2.7/starcluster\n",
        "copying starcluster/exception.py -> build/lib.linux-x86_64-2.7/starcluster\n",
        "copying starcluster/utils.py -> build/lib.linux-x86_64-2.7/starcluster\n",
        "copying starcluster/cli.py -> build/lib.linux-x86_64-2.7/starcluster\n",
        "copying starcluster/logger.py -> build/lib.linux-x86_64-2.7/starcluster\n",
        "copying starcluster/clustersetup.py -> build/lib.linux-x86_64-2.7/starcluster\n",
        "copying starcluster/node.py -> build/lib.linux-x86_64-2.7/starcluster\n",
        "copying starcluster/managers.py -> build/lib.linux-x86_64-2.7/starcluster\n",
        "copying starcluster/webtools.py -> build/lib.linux-x86_64-2.7/starcluster\n",
        "copying starcluster/spinner.py -> build/lib.linux-x86_64-2.7/starcluster\n",
        "copying starcluster/threadpool.py -> build/lib.linux-x86_64-2.7/starcluster\n",
        "copying starcluster/completion.py -> build/lib.linux-x86_64-2.7/starcluster\n",
        "copying starcluster/image.py -> build/lib.linux-x86_64-2.7/starcluster\n",
        "copying starcluster/awsutils.py -> build/lib.linux-x86_64-2.7/starcluster\n",
        "creating build/lib.linux-x86_64-2.7/starcluster/commands\n",
        "copying starcluster/commands/ebsimage.py -> build/lib.linux-x86_64-2.7/starcluster/commands\n",
        "copying starcluster/commands/sshinstance.py -> build/lib.linux-x86_64-2.7/starcluster/commands\n",
        "copying starcluster/commands/help.py -> build/lib.linux-x86_64-2.7/starcluster/commands\n",
        "copying starcluster/commands/__init__.py -> build/lib.linux-x86_64-2.7/starcluster/commands\n",
        "copying starcluster/commands/showimage.py -> build/lib.linux-x86_64-2.7/starcluster/commands\n",
        "copying starcluster/commands/sshmaster.py -> build/lib.linux-x86_64-2.7/starcluster/commands\n",
        "copying starcluster/commands/removeimage.py -> build/lib.linux-x86_64-2.7/starcluster/commands\n",
        "copying starcluster/commands/spothistory.py -> build/lib.linux-x86_64-2.7/starcluster/commands\n",
        "copying starcluster/commands/sshnode.py -> build/lib.linux-x86_64-2.7/starcluster/commands\n",
        "copying starcluster/commands/restart.py -> build/lib.linux-x86_64-2.7/starcluster/commands\n",
        "copying starcluster/commands/loadbalance.py -> build/lib.linux-x86_64-2.7/starcluster/commands\n",
        "copying starcluster/commands/addnode.py -> build/lib.linux-x86_64-2.7/starcluster/commands\n",
        "copying starcluster/commands/completers.py -> build/lib.linux-x86_64-2.7/starcluster/commands\n",
        "copying starcluster/commands/listbuckets.py -> build/lib.linux-x86_64-2.7/starcluster/commands\n",
        "copying starcluster/commands/removenode.py -> build/lib.linux-x86_64-2.7/starcluster/commands\n",
        "copying starcluster/commands/listclusters.py -> build/lib.linux-x86_64-2.7/starcluster/commands\n",
        "copying starcluster/commands/createvolume.py -> build/lib.linux-x86_64-2.7/starcluster/commands\n",
        "copying starcluster/commands/listspots.py -> build/lib.linux-x86_64-2.7/starcluster/commands\n",
        "copying starcluster/commands/base.py -> build/lib.linux-x86_64-2.7/starcluster/commands\n",
        "copying starcluster/commands/listimages.py -> build/lib.linux-x86_64-2.7/starcluster/commands\n",
        "copying starcluster/commands/listpublic.py -> build/lib.linux-x86_64-2.7/starcluster/commands\n",
        "copying starcluster/commands/createkey.py -> build/lib.linux-x86_64-2.7/starcluster/commands\n",
        "copying starcluster/commands/s3image.py -> build/lib.linux-x86_64-2.7/starcluster/commands\n",
        "copying starcluster/commands/shell.py -> build/lib.linux-x86_64-2.7/starcluster/commands\n",
        "copying starcluster/commands/start.py -> build/lib.linux-x86_64-2.7/starcluster/commands\n",
        "copying starcluster/commands/resizevolume.py -> build/lib.linux-x86_64-2.7/starcluster/commands\n",
        "copying starcluster/commands/removekey.py -> build/lib.linux-x86_64-2.7/starcluster/commands\n",
        "copying starcluster/commands/showbucket.py -> build/lib.linux-x86_64-2.7/starcluster/commands\n",
        "copying starcluster/commands/downloadimage.py -> build/lib.linux-x86_64-2.7/starcluster/commands\n",
        "copying starcluster/commands/listvolumes.py -> build/lib.linux-x86_64-2.7/starcluster/commands\n",
        "copying starcluster/commands/put.py -> build/lib.linux-x86_64-2.7/starcluster/commands\n",
        "copying starcluster/commands/showconsole.py -> build/lib.linux-x86_64-2.7/starcluster/commands\n",
        "copying starcluster/commands/listkeypairs.py -> build/lib.linux-x86_64-2.7/starcluster/commands\n",
        "copying starcluster/commands/listinstances.py -> build/lib.linux-x86_64-2.7/starcluster/commands\n",
        "copying starcluster/commands/terminate.py -> build/lib.linux-x86_64-2.7/starcluster/commands\n",
        "copying starcluster/commands/get.py -> build/lib.linux-x86_64-2.7/starcluster/commands\n",
        "copying starcluster/commands/listregions.py -> build/lib.linux-x86_64-2.7/starcluster/commands\n",
        "copying starcluster/commands/stop.py -> build/lib.linux-x86_64-2.7/starcluster/commands\n",
        "copying starcluster/commands/listzones.py -> build/lib.linux-x86_64-2.7/starcluster/commands\n",
        "copying starcluster/commands/runplugin.py -> build/lib.linux-x86_64-2.7/starcluster/commands\n",
        "copying starcluster/commands/removevolume.py -> build/lib.linux-x86_64-2.7/starcluster/commands\n",
        "creating build/lib.linux-x86_64-2.7/starcluster/plugins\n",
        "copying starcluster/plugins/mpich2.py -> build/lib.linux-x86_64-2.7/starcluster/plugins\n",
        "copying starcluster/plugins/__init__.py -> build/lib.linux-x86_64-2.7/starcluster/plugins\n",
        "copying starcluster/plugins/pypkginstaller.py -> build/lib.linux-x86_64-2.7/starcluster/plugins\n",
        "copying starcluster/plugins/hadoop.py -> build/lib.linux-x86_64-2.7/starcluster/plugins\n",
        "copying starcluster/plugins/tmux.py -> build/lib.linux-x86_64-2.7/starcluster/plugins\n",
        "copying starcluster/plugins/users.py -> build/lib.linux-x86_64-2.7/starcluster/plugins\n",
        "copying starcluster/plugins/xvfb.py -> build/lib.linux-x86_64-2.7/starcluster/plugins\n",
        "copying starcluster/plugins/ipcluster.py -> build/lib.linux-x86_64-2.7/starcluster/plugins\n",
        "copying starcluster/plugins/boto.py -> build/lib.linux-x86_64-2.7/starcluster/plugins\n",
        "copying starcluster/plugins/sge.py -> build/lib.linux-x86_64-2.7/starcluster/plugins\n",
        "copying starcluster/plugins/condor.py -> build/lib.linux-x86_64-2.7/starcluster/plugins\n",
        "copying starcluster/plugins/mysql.py -> build/lib.linux-x86_64-2.7/starcluster/plugins\n",
        "copying starcluster/plugins/pkginstaller.py -> build/lib.linux-x86_64-2.7/starcluster/plugins\n",
        "creating build/lib.linux-x86_64-2.7/starcluster/balancers\n",
        "copying starcluster/balancers/__init__.py -> build/lib.linux-x86_64-2.7/starcluster/balancers\n",
        "creating build/lib.linux-x86_64-2.7/starcluster/tests\n",
        "copying starcluster/tests/__init__.py -> build/lib.linux-x86_64-2.7/starcluster/tests\n",
        "copying starcluster/tests/test_cluster_validation.py -> build/lib.linux-x86_64-2.7/starcluster/tests\n",
        "copying starcluster/tests/test_sge_balancer.py -> build/lib.linux-x86_64-2.7/starcluster/tests\n",
        "copying starcluster/tests/test_config.py -> build/lib.linux-x86_64-2.7/starcluster/tests\n",
        "copying starcluster/tests/mytestplugin.py -> build/lib.linux-x86_64-2.7/starcluster/tests\n",
        "copying starcluster/tests/test_threadpool.py -> build/lib.linux-x86_64-2.7/starcluster/tests\n",
        "copying starcluster/tests/test_userdata_utils.py -> build/lib.linux-x86_64-2.7/starcluster/tests\n",
        "creating build/lib.linux-x86_64-2.7/starcluster/templates\n",
        "copying starcluster/templates/__init__.py -> build/lib.linux-x86_64-2.7/starcluster/templates\n",
        "copying starcluster/templates/config.py -> build/lib.linux-x86_64-2.7/starcluster/templates\n",
        "copying starcluster/templates/user_msgs.py -> build/lib.linux-x86_64-2.7/starcluster/templates\n",
        "copying starcluster/templates/sge.py -> build/lib.linux-x86_64-2.7/starcluster/templates\n",
        "copying starcluster/templates/condor.py -> build/lib.linux-x86_64-2.7/starcluster/templates\n",
        "creating build/lib.linux-x86_64-2.7/starcluster/balancers/sge\n",
        "copying starcluster/balancers/sge/__init__.py -> build/lib.linux-x86_64-2.7/starcluster/balancers/sge\n",
        "copying starcluster/balancers/sge/visualizer.py -> build/lib.linux-x86_64-2.7/starcluster/balancers/sge\n",
        "creating build/lib.linux-x86_64-2.7/starcluster/tests/templates\n",
        "copying starcluster/tests/templates/sge_balancer.py -> build/lib.linux-x86_64-2.7/starcluster/tests/templates\n",
        "copying starcluster/tests/templates/__init__.py -> build/lib.linux-x86_64-2.7/starcluster/tests/templates\n",
        "copying starcluster/tests/templates/config.py -> build/lib.linux-x86_64-2.7/starcluster/tests/templates\n",
        "creating build/lib.linux-x86_64-2.7/starcluster/templates/web\n",
        "copying starcluster/templates/web/favicon.ico -> build/lib.linux-x86_64-2.7/starcluster/templates/web\n",
        "copying starcluster/templates/web/spothistory.html -> build/lib.linux-x86_64-2.7/starcluster/templates/web\n",
        "creating build/lib.linux-x86_64-2.7/starcluster/templates/web/css\n",
        "copying starcluster/templates/web/css/reset.css -> build/lib.linux-x86_64-2.7/starcluster/templates/web/css\n",
        "copying starcluster/templates/web/css/screen.css -> build/lib.linux-x86_64-2.7/starcluster/templates/web/css\n",
        "copying starcluster/templates/web/css/zoom.css -> build/lib.linux-x86_64-2.7/starcluster/templates/web/css\n",
        "creating build/lib.linux-x86_64-2.7/starcluster/templates/web/imgs\n",
        "copying starcluster/templates/web/imgs/arrow-down.png -> build/lib.linux-x86_64-2.7/starcluster/templates/web/imgs\n",
        "copying starcluster/templates/web/imgs/arrow-left.png -> build/lib.linux-x86_64-2.7/starcluster/templates/web/imgs\n",
        "copying starcluster/templates/web/imgs/arrow-right.png -> build/lib.linux-x86_64-2.7/starcluster/templates/web/imgs\n",
        "copying starcluster/templates/web/imgs/arrow-up.png -> build/lib.linux-x86_64-2.7/starcluster/templates/web/imgs\n",
        "copying starcluster/templates/web/imgs/controls.svg -> build/lib.linux-x86_64-2.7/starcluster/templates/web/imgs\n",
        "copying starcluster/templates/web/imgs/controlsbg.png -> build/lib.linux-x86_64-2.7/starcluster/templates/web/imgs\n",
        "copying starcluster/templates/web/imgs/reset.png -> build/lib.linux-x86_64-2.7/starcluster/templates/web/imgs\n",
        "copying starcluster/templates/web/imgs/zoomin.png -> build/lib.linux-x86_64-2.7/starcluster/templates/web/imgs\n",
        "copying starcluster/templates/web/imgs/zoomout.png -> build/lib.linux-x86_64-2.7/starcluster/templates/web/imgs\n",
        "creating build/lib.linux-x86_64-2.7/starcluster/templates/web/js\n",
        "copying starcluster/templates/web/js/jquery.flot.js -> build/lib.linux-x86_64-2.7/starcluster/templates/web/js\n",
        "copying starcluster/templates/web/js/jquery.flot.navigate.js -> build/lib.linux-x86_64-2.7/starcluster/templates/web/js\n",
        "copying starcluster/templates/web/js/jquery.flot.selection.js -> build/lib.linux-x86_64-2.7/starcluster/templates/web/js\n",
        "copying starcluster/templates/web/js/jquery.js -> build/lib.linux-x86_64-2.7/starcluster/templates/web/js\n",
        "copying starcluster/templates/web/js/shutdown.js -> build/lib.linux-x86_64-2.7/starcluster/templates/web/js\n",
        "copying starcluster/templates/web/js/timeseries.js -> build/lib.linux-x86_64-2.7/starcluster/templates/web/js\n",
        "creating build/bdist.linux-x86_64\n",
        "creating build/bdist.linux-x86_64/egg\n",
        "creating build/bdist.linux-x86_64/egg/starcluster\n",
        "copying build/lib.linux-x86_64-2.7/starcluster/progressbar.py -> build/bdist.linux-x86_64/egg/starcluster\n",
        "copying build/lib.linux-x86_64-2.7/starcluster/validators.py -> build/bdist.linux-x86_64/egg/starcluster\n",
        "copying build/lib.linux-x86_64-2.7/starcluster/__init__.py -> build/bdist.linux-x86_64/egg/starcluster\n",
        "copying build/lib.linux-x86_64-2.7/starcluster/config.py -> build/bdist.linux-x86_64/egg/starcluster\n",
        "copying build/lib.linux-x86_64-2.7/starcluster/userdata.py -> build/bdist.linux-x86_64/egg/starcluster\n",
        "copying build/lib.linux-x86_64-2.7/starcluster/static.py -> build/bdist.linux-x86_64/egg/starcluster\n",
        "copying build/lib.linux-x86_64-2.7/starcluster/sshutils.py -> build/bdist.linux-x86_64/egg/starcluster\n",
        "creating build/bdist.linux-x86_64/egg/starcluster/commands\n",
        "copying build/lib.linux-x86_64-2.7/starcluster/commands/ebsimage.py -> build/bdist.linux-x86_64/egg/starcluster/commands\n",
        "copying build/lib.linux-x86_64-2.7/starcluster/commands/sshinstance.py -> build/bdist.linux-x86_64/egg/starcluster/commands\n",
        "copying build/lib.linux-x86_64-2.7/starcluster/commands/help.py -> build/bdist.linux-x86_64/egg/starcluster/commands\n",
        "copying build/lib.linux-x86_64-2.7/starcluster/commands/__init__.py -> build/bdist.linux-x86_64/egg/starcluster/commands\n",
        "copying build/lib.linux-x86_64-2.7/starcluster/commands/showimage.py -> build/bdist.linux-x86_64/egg/starcluster/commands\n",
        "copying build/lib.linux-x86_64-2.7/starcluster/commands/sshmaster.py -> build/bdist.linux-x86_64/egg/starcluster/commands\n",
        "copying build/lib.linux-x86_64-2.7/starcluster/commands/removeimage.py -> build/bdist.linux-x86_64/egg/starcluster/commands\n",
        "copying build/lib.linux-x86_64-2.7/starcluster/commands/spothistory.py -> build/bdist.linux-x86_64/egg/starcluster/commands\n",
        "copying build/lib.linux-x86_64-2.7/starcluster/commands/sshnode.py -> build/bdist.linux-x86_64/egg/starcluster/commands\n",
        "copying build/lib.linux-x86_64-2.7/starcluster/commands/restart.py -> build/bdist.linux-x86_64/egg/starcluster/commands\n",
        "copying build/lib.linux-x86_64-2.7/starcluster/commands/loadbalance.py -> build/bdist.linux-x86_64/egg/starcluster/commands\n",
        "copying build/lib.linux-x86_64-2.7/starcluster/commands/addnode.py -> build/bdist.linux-x86_64/egg/starcluster/commands\n",
        "copying build/lib.linux-x86_64-2.7/starcluster/commands/completers.py -> build/bdist.linux-x86_64/egg/starcluster/commands\n",
        "copying build/lib.linux-x86_64-2.7/starcluster/commands/listbuckets.py -> build/bdist.linux-x86_64/egg/starcluster/commands\n",
        "copying build/lib.linux-x86_64-2.7/starcluster/commands/removenode.py -> build/bdist.linux-x86_64/egg/starcluster/commands\n",
        "copying build/lib.linux-x86_64-2.7/starcluster/commands/listclusters.py -> build/bdist.linux-x86_64/egg/starcluster/commands\n",
        "copying build/lib.linux-x86_64-2.7/starcluster/commands/createvolume.py -> build/bdist.linux-x86_64/egg/starcluster/commands\n",
        "copying build/lib.linux-x86_64-2.7/starcluster/commands/listspots.py -> build/bdist.linux-x86_64/egg/starcluster/commands\n",
        "copying build/lib.linux-x86_64-2.7/starcluster/commands/base.py -> build/bdist.linux-x86_64/egg/starcluster/commands\n",
        "copying build/lib.linux-x86_64-2.7/starcluster/commands/listimages.py -> build/bdist.linux-x86_64/egg/starcluster/commands\n",
        "copying build/lib.linux-x86_64-2.7/starcluster/commands/listpublic.py -> build/bdist.linux-x86_64/egg/starcluster/commands\n",
        "copying build/lib.linux-x86_64-2.7/starcluster/commands/createkey.py -> build/bdist.linux-x86_64/egg/starcluster/commands\n",
        "copying build/lib.linux-x86_64-2.7/starcluster/commands/s3image.py -> build/bdist.linux-x86_64/egg/starcluster/commands\n",
        "copying build/lib.linux-x86_64-2.7/starcluster/commands/shell.py -> build/bdist.linux-x86_64/egg/starcluster/commands\n",
        "copying build/lib.linux-x86_64-2.7/starcluster/commands/start.py -> build/bdist.linux-x86_64/egg/starcluster/commands\n",
        "copying build/lib.linux-x86_64-2.7/starcluster/commands/resizevolume.py -> build/bdist.linux-x86_64/egg/starcluster/commands\n",
        "copying build/lib.linux-x86_64-2.7/starcluster/commands/removekey.py -> build/bdist.linux-x86_64/egg/starcluster/commands\n",
        "copying build/lib.linux-x86_64-2.7/starcluster/commands/showbucket.py -> build/bdist.linux-x86_64/egg/starcluster/commands\n",
        "copying build/lib.linux-x86_64-2.7/starcluster/commands/downloadimage.py -> build/bdist.linux-x86_64/egg/starcluster/commands\n",
        "copying build/lib.linux-x86_64-2.7/starcluster/commands/listvolumes.py -> build/bdist.linux-x86_64/egg/starcluster/commands\n",
        "copying build/lib.linux-x86_64-2.7/starcluster/commands/put.py -> build/bdist.linux-x86_64/egg/starcluster/commands\n",
        "copying build/lib.linux-x86_64-2.7/starcluster/commands/showconsole.py -> build/bdist.linux-x86_64/egg/starcluster/commands\n",
        "copying build/lib.linux-x86_64-2.7/starcluster/commands/listkeypairs.py -> build/bdist.linux-x86_64/egg/starcluster/commands\n",
        "copying build/lib.linux-x86_64-2.7/starcluster/commands/listinstances.py -> build/bdist.linux-x86_64/egg/starcluster/commands\n",
        "copying build/lib.linux-x86_64-2.7/starcluster/commands/terminate.py -> build/bdist.linux-x86_64/egg/starcluster/commands\n",
        "copying build/lib.linux-x86_64-2.7/starcluster/commands/get.py -> build/bdist.linux-x86_64/egg/starcluster/commands\n",
        "copying build/lib.linux-x86_64-2.7/starcluster/commands/listregions.py -> build/bdist.linux-x86_64/egg/starcluster/commands\n",
        "copying build/lib.linux-x86_64-2.7/starcluster/commands/stop.py -> build/bdist.linux-x86_64/egg/starcluster/commands\n",
        "copying build/lib.linux-x86_64-2.7/starcluster/commands/listzones.py -> build/bdist.linux-x86_64/egg/starcluster/commands\n",
        "copying build/lib.linux-x86_64-2.7/starcluster/commands/runplugin.py -> build/bdist.linux-x86_64/egg/starcluster/commands\n",
        "copying build/lib.linux-x86_64-2.7/starcluster/commands/removevolume.py -> build/bdist.linux-x86_64/egg/starcluster/commands\n",
        "copying build/lib.linux-x86_64-2.7/starcluster/volume.py -> build/bdist.linux-x86_64/egg/starcluster\n",
        "copying build/lib.linux-x86_64-2.7/starcluster/cluster.py -> build/bdist.linux-x86_64/egg/starcluster\n",
        "copying build/lib.linux-x86_64-2.7/starcluster/deathrow.py -> build/bdist.linux-x86_64/egg/starcluster\n",
        "copying build/lib.linux-x86_64-2.7/starcluster/exception.py -> build/bdist.linux-x86_64/egg/starcluster\n",
        "copying build/lib.linux-x86_64-2.7/starcluster/utils.py -> build/bdist.linux-x86_64/egg/starcluster\n",
        "creating build/bdist.linux-x86_64/egg/starcluster/plugins\n",
        "copying build/lib.linux-x86_64-2.7/starcluster/plugins/mpich2.py -> build/bdist.linux-x86_64/egg/starcluster/plugins\n",
        "copying build/lib.linux-x86_64-2.7/starcluster/plugins/__init__.py -> build/bdist.linux-x86_64/egg/starcluster/plugins\n",
        "copying build/lib.linux-x86_64-2.7/starcluster/plugins/pypkginstaller.py -> build/bdist.linux-x86_64/egg/starcluster/plugins\n",
        "copying build/lib.linux-x86_64-2.7/starcluster/plugins/hadoop.py -> build/bdist.linux-x86_64/egg/starcluster/plugins\n",
        "copying build/lib.linux-x86_64-2.7/starcluster/plugins/tmux.py -> build/bdist.linux-x86_64/egg/starcluster/plugins\n",
        "copying build/lib.linux-x86_64-2.7/starcluster/plugins/users.py -> build/bdist.linux-x86_64/egg/starcluster/plugins\n",
        "copying build/lib.linux-x86_64-2.7/starcluster/plugins/xvfb.py -> build/bdist.linux-x86_64/egg/starcluster/plugins\n",
        "copying build/lib.linux-x86_64-2.7/starcluster/plugins/ipcluster.py -> build/bdist.linux-x86_64/egg/starcluster/plugins\n",
        "copying build/lib.linux-x86_64-2.7/starcluster/plugins/boto.py -> build/bdist.linux-x86_64/egg/starcluster/plugins\n",
        "copying build/lib.linux-x86_64-2.7/starcluster/plugins/sge.py -> build/bdist.linux-x86_64/egg/starcluster/plugins\n",
        "copying build/lib.linux-x86_64-2.7/starcluster/plugins/condor.py -> build/bdist.linux-x86_64/egg/starcluster/plugins\n",
        "copying build/lib.linux-x86_64-2.7/starcluster/plugins/mysql.py -> build/bdist.linux-x86_64/egg/starcluster/plugins\n",
        "copying build/lib.linux-x86_64-2.7/starcluster/plugins/pkginstaller.py -> build/bdist.linux-x86_64/egg/starcluster/plugins\n",
        "copying build/lib.linux-x86_64-2.7/starcluster/cli.py -> build/bdist.linux-x86_64/egg/starcluster\n",
        "copying build/lib.linux-x86_64-2.7/starcluster/logger.py -> build/bdist.linux-x86_64/egg/starcluster\n",
        "copying build/lib.linux-x86_64-2.7/starcluster/clustersetup.py -> build/bdist.linux-x86_64/egg/starcluster\n",
        "copying build/lib.linux-x86_64-2.7/starcluster/node.py -> build/bdist.linux-x86_64/egg/starcluster\n",
        "copying build/lib.linux-x86_64-2.7/starcluster/managers.py -> build/bdist.linux-x86_64/egg/starcluster\n",
        "copying build/lib.linux-x86_64-2.7/starcluster/webtools.py -> build/bdist.linux-x86_64/egg/starcluster\n",
        "creating build/bdist.linux-x86_64/egg/starcluster/balancers\n",
        "copying build/lib.linux-x86_64-2.7/starcluster/balancers/__init__.py -> build/bdist.linux-x86_64/egg/starcluster/balancers\n",
        "creating build/bdist.linux-x86_64/egg/starcluster/balancers/sge\n",
        "copying build/lib.linux-x86_64-2.7/starcluster/balancers/sge/__init__.py -> build/bdist.linux-x86_64/egg/starcluster/balancers/sge\n",
        "copying build/lib.linux-x86_64-2.7/starcluster/balancers/sge/visualizer.py -> build/bdist.linux-x86_64/egg/starcluster/balancers/sge\n",
        "copying build/lib.linux-x86_64-2.7/starcluster/spinner.py -> build/bdist.linux-x86_64/egg/starcluster\n",
        "copying build/lib.linux-x86_64-2.7/starcluster/threadpool.py -> build/bdist.linux-x86_64/egg/starcluster\n",
        "creating build/bdist.linux-x86_64/egg/starcluster/tests\n",
        "copying build/lib.linux-x86_64-2.7/starcluster/tests/__init__.py -> build/bdist.linux-x86_64/egg/starcluster/tests\n",
        "copying build/lib.linux-x86_64-2.7/starcluster/tests/test_cluster_validation.py -> build/bdist.linux-x86_64/egg/starcluster/tests\n",
        "copying build/lib.linux-x86_64-2.7/starcluster/tests/test_sge_balancer.py -> build/bdist.linux-x86_64/egg/starcluster/tests\n",
        "copying build/lib.linux-x86_64-2.7/starcluster/tests/test_config.py -> build/bdist.linux-x86_64/egg/starcluster/tests\n",
        "copying build/lib.linux-x86_64-2.7/starcluster/tests/mytestplugin.py -> build/bdist.linux-x86_64/egg/starcluster/tests\n",
        "copying build/lib.linux-x86_64-2.7/starcluster/tests/test_threadpool.py -> build/bdist.linux-x86_64/egg/starcluster/tests\n",
        "copying build/lib.linux-x86_64-2.7/starcluster/tests/test_userdata_utils.py -> build/bdist.linux-x86_64/egg/starcluster/tests\n",
        "creating build/bdist.linux-x86_64/egg/starcluster/tests/templates\n",
        "copying build/lib.linux-x86_64-2.7/starcluster/tests/templates/sge_balancer.py -> build/bdist.linux-x86_64/egg/starcluster/tests/templates\n",
        "copying build/lib.linux-x86_64-2.7/starcluster/tests/templates/__init__.py -> build/bdist.linux-x86_64/egg/starcluster/tests/templates\n",
        "copying build/lib.linux-x86_64-2.7/starcluster/tests/templates/config.py -> build/bdist.linux-x86_64/egg/starcluster/tests/templates\n",
        "copying build/lib.linux-x86_64-2.7/starcluster/completion.py -> build/bdist.linux-x86_64/egg/starcluster\n",
        "copying build/lib.linux-x86_64-2.7/starcluster/image.py -> build/bdist.linux-x86_64/egg/starcluster\n",
        "creating build/bdist.linux-x86_64/egg/starcluster/templates\n",
        "creating build/bdist.linux-x86_64/egg/starcluster/templates/web\n",
        "creating build/bdist.linux-x86_64/egg/starcluster/templates/web/imgs\n",
        "copying build/lib.linux-x86_64-2.7/starcluster/templates/web/imgs/controlsbg.png -> build/bdist.linux-x86_64/egg/starcluster/templates/web/imgs\n",
        "copying build/lib.linux-x86_64-2.7/starcluster/templates/web/imgs/zoomout.png -> build/bdist.linux-x86_64/egg/starcluster/templates/web/imgs\n",
        "copying build/lib.linux-x86_64-2.7/starcluster/templates/web/imgs/arrow-up.png -> build/bdist.linux-x86_64/egg/starcluster/templates/web/imgs\n",
        "copying build/lib.linux-x86_64-2.7/starcluster/templates/web/imgs/zoomin.png -> build/bdist.linux-x86_64/egg/starcluster/templates/web/imgs\n",
        "copying build/lib.linux-x86_64-2.7/starcluster/templates/web/imgs/controls.svg -> build/bdist.linux-x86_64/egg/starcluster/templates/web/imgs\n",
        "copying build/lib.linux-x86_64-2.7/starcluster/templates/web/imgs/reset.png -> build/bdist.linux-x86_64/egg/starcluster/templates/web/imgs\n",
        "copying build/lib.linux-x86_64-2.7/starcluster/templates/web/imgs/arrow-left.png -> build/bdist.linux-x86_64/egg/starcluster/templates/web/imgs\n",
        "copying build/lib.linux-x86_64-2.7/starcluster/templates/web/imgs/arrow-right.png -> build/bdist.linux-x86_64/egg/starcluster/templates/web/imgs\n",
        "copying build/lib.linux-x86_64-2.7/starcluster/templates/web/imgs/arrow-down.png -> build/bdist.linux-x86_64/egg/starcluster/templates/web/imgs\n",
        "copying build/lib.linux-x86_64-2.7/starcluster/templates/web/spothistory.html -> build/bdist.linux-x86_64/egg/starcluster/templates/web\n",
        "creating build/bdist.linux-x86_64/egg/starcluster/templates/web/css\n",
        "copying build/lib.linux-x86_64-2.7/starcluster/templates/web/css/reset.css -> build/bdist.linux-x86_64/egg/starcluster/templates/web/css\n",
        "copying build/lib.linux-x86_64-2.7/starcluster/templates/web/css/zoom.css -> build/bdist.linux-x86_64/egg/starcluster/templates/web/css\n",
        "copying build/lib.linux-x86_64-2.7/starcluster/templates/web/css/screen.css -> build/bdist.linux-x86_64/egg/starcluster/templates/web/css\n",
        "copying build/lib.linux-x86_64-2.7/starcluster/templates/web/favicon.ico -> build/bdist.linux-x86_64/egg/starcluster/templates/web\n",
        "creating build/bdist.linux-x86_64/egg/starcluster/templates/web/js\n",
        "copying build/lib.linux-x86_64-2.7/starcluster/templates/web/js/jquery.flot.js -> build/bdist.linux-x86_64/egg/starcluster/templates/web/js\n",
        "copying build/lib.linux-x86_64-2.7/starcluster/templates/web/js/jquery.js -> build/bdist.linux-x86_64/egg/starcluster/templates/web/js\n",
        "copying build/lib.linux-x86_64-2.7/starcluster/templates/web/js/shutdown.js -> build/bdist.linux-x86_64/egg/starcluster/templates/web/js\n",
        "copying build/lib.linux-x86_64-2.7/starcluster/templates/web/js/jquery.flot.navigate.js -> build/bdist.linux-x86_64/egg/starcluster/templates/web/js\n",
        "copying build/lib.linux-x86_64-2.7/starcluster/templates/web/js/timeseries.js -> build/bdist.linux-x86_64/egg/starcluster/templates/web/js\n",
        "copying build/lib.linux-x86_64-2.7/starcluster/templates/web/js/jquery.flot.selection.js -> build/bdist.linux-x86_64/egg/starcluster/templates/web/js\n",
        "copying build/lib.linux-x86_64-2.7/starcluster/templates/__init__.py -> build/bdist.linux-x86_64/egg/starcluster/templates\n",
        "copying build/lib.linux-x86_64-2.7/starcluster/templates/config.py -> build/bdist.linux-x86_64/egg/starcluster/templates\n",
        "copying build/lib.linux-x86_64-2.7/starcluster/templates/user_msgs.py -> build/bdist.linux-x86_64/egg/starcluster/templates\n",
        "copying build/lib.linux-x86_64-2.7/starcluster/templates/sge.py -> build/bdist.linux-x86_64/egg/starcluster/templates\n",
        "copying build/lib.linux-x86_64-2.7/starcluster/templates/condor.py -> build/bdist.linux-x86_64/egg/starcluster/templates\n",
        "copying build/lib.linux-x86_64-2.7/starcluster/awsutils.py -> build/bdist.linux-x86_64/egg/starcluster\n",
        "byte-compiling build/bdist.linux-x86_64/egg/starcluster/progressbar.py to progressbar.pyc\n",
        "byte-compiling build/bdist.linux-x86_64/egg/starcluster/validators.py to validators.pyc\n",
        "byte-compiling build/bdist.linux-x86_64/egg/starcluster/__init__.py to __init__.pyc\n",
        "byte-compiling build/bdist.linux-x86_64/egg/starcluster/config.py to config.pyc\n",
        "byte-compiling build/bdist.linux-x86_64/egg/starcluster/userdata.py to userdata.pyc\n",
        "byte-compiling build/bdist.linux-x86_64/egg/starcluster/static.py to static.pyc\n",
        "byte-compiling build/bdist.linux-x86_64/egg/starcluster/sshutils.py to sshutils.pyc\n",
        "byte-compiling build/bdist.linux-x86_64/egg/starcluster/commands/ebsimage.py to ebsimage.pyc\n",
        "byte-compiling build/bdist.linux-x86_64/egg/starcluster/commands/sshinstance.py to sshinstance.pyc\n",
        "byte-compiling build/bdist.linux-x86_64/egg/starcluster/commands/help.py to help.pyc\n",
        "byte-compiling build/bdist.linux-x86_64/egg/starcluster/commands/__init__.py to __init__.pyc\n",
        "byte-compiling build/bdist.linux-x86_64/egg/starcluster/commands/showimage.py to showimage.pyc\n",
        "byte-compiling build/bdist.linux-x86_64/egg/starcluster/commands/sshmaster.py to sshmaster.pyc\n",
        "byte-compiling build/bdist.linux-x86_64/egg/starcluster/commands/removeimage.py to removeimage.pyc\n",
        "byte-compiling build/bdist.linux-x86_64/egg/starcluster/commands/spothistory.py to spothistory.pyc\n",
        "byte-compiling build/bdist.linux-x86_64/egg/starcluster/commands/sshnode.py to sshnode.pyc\n",
        "byte-compiling build/bdist.linux-x86_64/egg/starcluster/commands/restart.py to restart.pyc\n",
        "byte-compiling build/bdist.linux-x86_64/egg/starcluster/commands/loadbalance.py to loadbalance.pyc\n",
        "byte-compiling build/bdist.linux-x86_64/egg/starcluster/commands/addnode.py to addnode.pyc\n",
        "byte-compiling build/bdist.linux-x86_64/egg/starcluster/commands/completers.py to completers.pyc\n",
        "byte-compiling build/bdist.linux-x86_64/egg/starcluster/commands/listbuckets.py to listbuckets.pyc\n",
        "byte-compiling build/bdist.linux-x86_64/egg/starcluster/commands/removenode.py to removenode.pyc\n",
        "byte-compiling build/bdist.linux-x86_64/egg/starcluster/commands/listclusters.py to listclusters.pyc\n",
        "byte-compiling build/bdist.linux-x86_64/egg/starcluster/commands/createvolume.py to createvolume.pyc\n",
        "byte-compiling build/bdist.linux-x86_64/egg/starcluster/commands/listspots.py to listspots.pyc\n",
        "byte-compiling build/bdist.linux-x86_64/egg/starcluster/commands/base.py to base.pyc\n",
        "byte-compiling build/bdist.linux-x86_64/egg/starcluster/commands/listimages.py to listimages.pyc\n",
        "byte-compiling build/bdist.linux-x86_64/egg/starcluster/commands/listpublic.py to listpublic.pyc\n",
        "byte-compiling build/bdist.linux-x86_64/egg/starcluster/commands/createkey.py to createkey.pyc\n",
        "byte-compiling build/bdist.linux-x86_64/egg/starcluster/commands/s3image.py to s3image.pyc\n",
        "byte-compiling build/bdist.linux-x86_64/egg/starcluster/commands/shell.py to shell.pyc\n",
        "byte-compiling build/bdist.linux-x86_64/egg/starcluster/commands/start.py to start.pyc\n",
        "byte-compiling build/bdist.linux-x86_64/egg/starcluster/commands/resizevolume.py to resizevolume.pyc\n",
        "byte-compiling build/bdist.linux-x86_64/egg/starcluster/commands/removekey.py to removekey.pyc\n",
        "byte-compiling build/bdist.linux-x86_64/egg/starcluster/commands/showbucket.py to showbucket.pyc\n",
        "byte-compiling build/bdist.linux-x86_64/egg/starcluster/commands/downloadimage.py to downloadimage.pyc\n",
        "byte-compiling build/bdist.linux-x86_64/egg/starcluster/commands/listvolumes.py to listvolumes.pyc\n",
        "byte-compiling build/bdist.linux-x86_64/egg/starcluster/commands/put.py to put.pyc\n",
        "byte-compiling build/bdist.linux-x86_64/egg/starcluster/commands/showconsole.py to showconsole.pyc\n",
        "byte-compiling build/bdist.linux-x86_64/egg/starcluster/commands/listkeypairs.py to listkeypairs.pyc\n",
        "byte-compiling build/bdist.linux-x86_64/egg/starcluster/commands/listinstances.py to listinstances.pyc\n",
        "byte-compiling build/bdist.linux-x86_64/egg/starcluster/commands/terminate.py to terminate.pyc\n",
        "byte-compiling build/bdist.linux-x86_64/egg/starcluster/commands/get.py to get.pyc\n",
        "byte-compiling build/bdist.linux-x86_64/egg/starcluster/commands/listregions.py to listregions.pyc\n",
        "byte-compiling build/bdist.linux-x86_64/egg/starcluster/commands/stop.py to stop.pyc\n",
        "byte-compiling build/bdist.linux-x86_64/egg/starcluster/commands/listzones.py to listzones.pyc\n",
        "byte-compiling build/bdist.linux-x86_64/egg/starcluster/commands/runplugin.py to runplugin.pyc\n",
        "byte-compiling build/bdist.linux-x86_64/egg/starcluster/commands/removevolume.py to removevolume.pyc\n",
        "byte-compiling build/bdist.linux-x86_64/egg/starcluster/volume.py to volume.pyc\n",
        "byte-compiling build/bdist.linux-x86_64/egg/starcluster/cluster.py to cluster.pyc\n",
        "byte-compiling build/bdist.linux-x86_64/egg/starcluster/deathrow.py to deathrow.pyc\n",
        "byte-compiling build/bdist.linux-x86_64/egg/starcluster/exception.py to exception.pyc\n",
        "byte-compiling build/bdist.linux-x86_64/egg/starcluster/utils.py to utils.pyc\n",
        "byte-compiling build/bdist.linux-x86_64/egg/starcluster/plugins/mpich2.py to mpich2.pyc\n",
        "byte-compiling build/bdist.linux-x86_64/egg/starcluster/plugins/__init__.py to __init__.pyc\n",
        "byte-compiling build/bdist.linux-x86_64/egg/starcluster/plugins/pypkginstaller.py to pypkginstaller.pyc\n",
        "byte-compiling build/bdist.linux-x86_64/egg/starcluster/plugins/hadoop.py to hadoop.pyc\n",
        "byte-compiling build/bdist.linux-x86_64/egg/starcluster/plugins/tmux.py to tmux.pyc\n",
        "byte-compiling build/bdist.linux-x86_64/egg/starcluster/plugins/users.py to users.pyc\n",
        "byte-compiling build/bdist.linux-x86_64/egg/starcluster/plugins/xvfb.py to xvfb.pyc\n",
        "byte-compiling build/bdist.linux-x86_64/egg/starcluster/plugins/ipcluster.py to ipcluster.pyc\n",
        "byte-compiling build/bdist.linux-x86_64/egg/starcluster/plugins/boto.py to boto.pyc\n",
        "byte-compiling build/bdist.linux-x86_64/egg/starcluster/plugins/sge.py to sge.pyc\n",
        "byte-compiling build/bdist.linux-x86_64/egg/starcluster/plugins/condor.py to condor.pyc\n",
        "byte-compiling build/bdist.linux-x86_64/egg/starcluster/plugins/mysql.py to mysql.pyc\n",
        "byte-compiling build/bdist.linux-x86_64/egg/starcluster/plugins/pkginstaller.py to pkginstaller.pyc\n",
        "byte-compiling build/bdist.linux-x86_64/egg/starcluster/cli.py to cli.pyc\n",
        "byte-compiling build/bdist.linux-x86_64/egg/starcluster/logger.py to logger.pyc\n",
        "byte-compiling build/bdist.linux-x86_64/egg/starcluster/clustersetup.py to clustersetup.pyc\n",
        "byte-compiling build/bdist.linux-x86_64/egg/starcluster/node.py to node.pyc\n",
        "byte-compiling build/bdist.linux-x86_64/egg/starcluster/managers.py to managers.pyc\n",
        "byte-compiling build/bdist.linux-x86_64/egg/starcluster/webtools.py to webtools.pyc\n",
        "byte-compiling build/bdist.linux-x86_64/egg/starcluster/balancers/__init__.py to __init__.pyc\n",
        "byte-compiling build/bdist.linux-x86_64/egg/starcluster/balancers/sge/__init__.py to __init__.pyc\n",
        "byte-compiling build/bdist.linux-x86_64/egg/starcluster/balancers/sge/visualizer.py to visualizer.pyc\n",
        "byte-compiling build/bdist.linux-x86_64/egg/starcluster/spinner.py to spinner.pyc\n",
        "byte-compiling build/bdist.linux-x86_64/egg/starcluster/threadpool.py to threadpool.pyc\n",
        "byte-compiling build/bdist.linux-x86_64/egg/starcluster/tests/__init__.py to __init__.pyc\n",
        "byte-compiling build/bdist.linux-x86_64/egg/starcluster/tests/test_cluster_validation.py to test_cluster_validation.pyc\n",
        "byte-compiling build/bdist.linux-x86_64/egg/starcluster/tests/test_sge_balancer.py to test_sge_balancer.pyc\n",
        "byte-compiling build/bdist.linux-x86_64/egg/starcluster/tests/test_config.py to test_config.pyc\n",
        "byte-compiling build/bdist.linux-x86_64/egg/starcluster/tests/mytestplugin.py to mytestplugin.pyc\n",
        "byte-compiling build/bdist.linux-x86_64/egg/starcluster/tests/test_threadpool.py to test_threadpool.pyc\n",
        "byte-compiling build/bdist.linux-x86_64/egg/starcluster/tests/test_userdata_utils.py to test_userdata_utils.pyc\n",
        "byte-compiling build/bdist.linux-x86_64/egg/starcluster/tests/templates/sge_balancer.py to sge_balancer.pyc\n",
        "byte-compiling build/bdist.linux-x86_64/egg/starcluster/tests/templates/__init__.py to __init__.pyc\n",
        "byte-compiling build/bdist.linux-x86_64/egg/starcluster/tests/templates/config.py to config.pyc\n",
        "byte-compiling build/bdist.linux-x86_64/egg/starcluster/completion.py to completion.pyc\n",
        "byte-compiling build/bdist.linux-x86_64/egg/starcluster/image.py to image.pyc\n",
        "byte-compiling build/bdist.linux-x86_64/egg/starcluster/templates/__init__.py to __init__.pyc\n",
        "byte-compiling build/bdist.linux-x86_64/egg/starcluster/templates/config.py to config.pyc\n",
        "byte-compiling build/bdist.linux-x86_64/egg/starcluster/templates/user_msgs.py to user_msgs.pyc\n",
        "byte-compiling build/bdist.linux-x86_64/egg/starcluster/templates/sge.py to sge.pyc\n",
        "byte-compiling build/bdist.linux-x86_64/egg/starcluster/templates/condor.py to condor.pyc\n",
        "byte-compiling build/bdist.linux-x86_64/egg/starcluster/awsutils.py to awsutils.pyc\n",
        "creating build/bdist.linux-x86_64/egg/EGG-INFO\n",
        "copying StarCluster.egg-info/PKG-INFO -> build/bdist.linux-x86_64/egg/EGG-INFO\n",
        "copying StarCluster.egg-info/SOURCES.txt -> build/bdist.linux-x86_64/egg/EGG-INFO\n",
        "copying StarCluster.egg-info/dependency_links.txt -> build/bdist.linux-x86_64/egg/EGG-INFO\n",
        "copying StarCluster.egg-info/entry_points.txt -> build/bdist.linux-x86_64/egg/EGG-INFO\n",
        "copying StarCluster.egg-info/not-zip-safe -> build/bdist.linux-x86_64/egg/EGG-INFO\n",
        "copying StarCluster.egg-info/requires.txt -> build/bdist.linux-x86_64/egg/EGG-INFO\n",
        "copying StarCluster.egg-info/top_level.txt -> build/bdist.linux-x86_64/egg/EGG-INFO\n",
        "creating dist\n",
        "creating 'dist/StarCluster-0.9999-py2.7.egg' and adding 'build/bdist.linux-x86_64/egg' to it\n",
        "removing 'build/bdist.linux-x86_64/egg' (and everything under it)\n",
        "Processing StarCluster-0.9999-py2.7.egg\n",
        "removing '/home/sgeadmin/.local/lib/python2.7/site-packages/StarCluster-0.9999-py2.7.egg' (and everything under it)\n",
        "creating /home/sgeadmin/.local/lib/python2.7/site-packages/StarCluster-0.9999-py2.7.egg\n",
        "Extracting StarCluster-0.9999-py2.7.egg to /home/sgeadmin/.local/lib/python2.7/site-packages\n",
        "StarCluster 0.9999 is already the active version in easy-install.pth\n",
        "Installing starcluster script to /home/sgeadmin/.local/bin\n",
        "\n",
        "Installed /home/sgeadmin/.local/lib/python2.7/site-packages/StarCluster-0.9999-py2.7.egg\n",
        "Processing dependencies for StarCluster==0.9999\n",
        "Searching for scp==0.7.0\n",
        "Best match: scp 0.7.0\n",
        "Processing scp-0.7.0-py2.7.egg\n",
        "scp 0.7.0 is already the active version in easy-install.pth\n",
        "\n",
        "Using /home/sgeadmin/.local/lib/python2.7/site-packages/scp-0.7.0-py2.7.egg\n",
        "Searching for pycrypto==2.6.1\n",
        "Best match: pycrypto 2.6.1\n",
        "Processing pycrypto-2.6.1-py2.7-linux-x86_64.egg\n",
        "pycrypto 2.6.1 is already the active version in easy-install.pth\n",
        "\n",
        "Using /home/sgeadmin/.local/lib/python2.7/site-packages/pycrypto-2.6.1-py2.7-linux-x86_64.egg\n",
        "Searching for optcomplete==1.2-devel\n",
        "Best match: optcomplete 1.2-devel\n",
        "Processing optcomplete-1.2_devel-py2.7.egg\n",
        "optcomplete 1.2-devel is already the active version in easy-install.pth\n",
        "\n",
        "Using /home/sgeadmin/.local/lib/python2.7/site-packages/optcomplete-1.2_devel-py2.7.egg\n",
        "Searching for iptools==0.6.1\n",
        "Best match: iptools 0.6.1\n",
        "Processing iptools-0.6.1-py2.7.egg\n",
        "iptools 0.6.1 is already the active version in easy-install.pth\n",
        "\n",
        "Using /home/sgeadmin/.local/lib/python2.7/site-packages/iptools-0.6.1-py2.7.egg\n",
        "Searching for decorator==3.4.0\n",
        "Best match: decorator 3.4.0\n",
        "Processing decorator-3.4.0-py2.7.egg\n",
        "decorator 3.4.0 is already the active version in easy-install.pth\n",
        "\n",
        "Using /home/sgeadmin/.local/lib/python2.7/site-packages/decorator-3.4.0-py2.7.egg\n",
        "Searching for Jinja2==2.7.1\n",
        "Best match: Jinja2 2.7.1\n",
        "Processing Jinja2-2.7.1-py2.7.egg\n",
        "Jinja2 2.7.1 is already the active version in easy-install.pth\n",
        "\n",
        "Using /home/sgeadmin/.local/lib/python2.7/site-packages/Jinja2-2.7.1-py2.7.egg\n",
        "Searching for workerpool==0.9.2\n",
        "Best match: workerpool 0.9.2\n",
        "Processing workerpool-0.9.2-py2.7.egg\n",
        "workerpool 0.9.2 is already the active version in easy-install.pth\n",
        "\n",
        "Using /home/sgeadmin/.local/lib/python2.7/site-packages/workerpool-0.9.2-py2.7.egg\n",
        "Searching for boto==2.19.0\n",
        "Best match: boto 2.19.0\n",
        "boto 2.19.0 is already the active version in easy-install.pth\n",
        "\n",
        "Using /usr/local/lib/python2.7/dist-packages\n",
        "Searching for paramiko==1.12.0\n",
        "Best match: paramiko 1.12.0\n",
        "Processing paramiko-1.12.0-py2.7.egg\n",
        "paramiko 1.12.0 is already the active version in easy-install.pth\n",
        "\n",
        "Using /home/sgeadmin/.local/lib/python2.7/site-packages/paramiko-1.12.0-py2.7.egg\n",
        "Searching for MarkupSafe==0.15\n",
        "Best match: MarkupSafe 0.15\n",
        "Adding MarkupSafe 0.15 to easy-install.pth file\n",
        "\n",
        "Using /usr/lib/python2.7/dist-packages\n",
        "Searching for ecdsa==0.10\n",
        "Best match: ecdsa 0.10\n",
        "Processing ecdsa-0.10-py2.7.egg\n",
        "ecdsa 0.10 is already the active version in easy-install.pth\n",
        "\n",
        "Using /home/sgeadmin/.local/lib/python2.7/site-packages/ecdsa-0.10-py2.7.egg\n",
        "Finished processing dependencies for StarCluster==0.9999\n"
       ]
      },
      {
       "output_type": "stream",
       "stream": "stderr",
       "text": [
        "Switched to a new branch 'mydevelop'\n",
        "warning: no previously-included files found matching 'requirements.txt'\n",
        "warning: no previously-included files matching '*' found under directory 'docs/sphinx/_build'\n"
       ]
      }
     ],
     "prompt_number": 10
    },
    {
     "cell_type": "markdown",
     "metadata": {},
     "source": [
      "#Spot Instances\n",
      "\n",
      "Excess capacity on Amazon that you can build on.\n",
      "Often is 10% of the cost of an On-Demand Instance."
     ]
    },
    {
     "cell_type": "code",
     "collapsed": false,
     "input": [
      " \n",
      "def getPrices(instance_type):\n",
      "    result = {}                                                                 \n",
      "    for r in boto.ec2.regions():                                                \n",
      "        try:                                                                    \n",
      "            conn = boto.ec2.connect_to_region(r.name)                           \n",
      "            for z in  conn.get_all_zones():                                     \n",
      "                end = datetime.utcnow().isoformat()                             \n",
      "                start = (datetime.utcnow() - timedelta(days=7)).isoformat()\n",
      "                                                                                        \n",
      "                sph =  conn.get_spot_price_history(start_time=start,instance_type=instance_type, availability_zone=z.name)\n",
      "                if len(sph) > 0:                                                \n",
      "                    sph                                       \n",
      "                    final =  dateutil.parser.parse(sph[0].timestamp)            \n",
      "                    time = []                                                    \n",
      "                    cost = []                                                   \n",
      "                    for s in sph:                                               \n",
      "                        a = dateutil.parser.parse(s.timestamp)                  \n",
      "                                            \n",
      "                        time.append(a)\n",
      "                        cost.append(s.price)\n",
      "                    result[z.name] = pd.Series(cost, index=time)\n",
      "        except EC2ResponseError as e:                                           \n",
      "            pass                                                                \n",
      "    return result\n",
      "\n",
      "            \n",
      "            \n",
      "            \n",
      "\n",
      "small_prices = getPrices('m1.small')\n",
      "high_mem = getPrices('m2.4xlarge')\n",
      "gpu =  getPrices('g2.2xlarge')\n",
      "snapper = getPrices('cr1.8xlarge')\n"
     ],
     "language": "python",
     "metadata": {},
     "outputs": [],
     "prompt_number": 5
    },
    {
     "cell_type": "markdown",
     "metadata": {},
     "source": [
      "##Small instances"
     ]
    },
    {
     "cell_type": "code",
     "collapsed": false,
     "input": [
      "\n",
      "a=small_prices\n",
      "df = pd.concat([s.resample('H') for s in a.itervalues()], join=\"outer\", axis=1)\n",
      "df.columns = a.keys()\n",
      "graph  = df.ix[:,sorted(a.keys())].boxplot(rot=90)"
     ],
     "language": "python",
     "metadata": {},
     "outputs": [
      {
       "metadata": {},
       "output_type": "display_data",
       "png": "[encoded data removed]",
       "text": [
        "<matplotlib.figure.Figure at 0x4d31c10>"
       ]
      }
     ],
     "prompt_number": 11
    },
    {
     "cell_type": "markdown",
     "metadata": {},
     "source": [
      "##High memory"
     ]
    },
    {
     "cell_type": "code",
     "collapsed": false,
     "input": [
      "\n",
      "a=high_mem\n",
      "df = pd.concat([s.resample('H') for s in a.itervalues()], join=\"outer\", axis=1)\n",
      "df.columns = a.keys()\n",
      "graph  = df.ix[:,sorted(a.keys())].boxplot(rot=90)"
     ],
     "language": "python",
     "metadata": {},
     "outputs": [
      {
       "metadata": {},
       "output_type": "display_data",
       "png": "[encoded data removed]",
       "text": [
        "<matplotlib.figure.Figure at 0x5327390>"
       ]
      }
     ],
     "prompt_number": 12
    },
    {
     "cell_type": "markdown",
     "metadata": {},
     "source": [
      "##New GPUs"
     ]
    },
    {
     "cell_type": "code",
     "collapsed": false,
     "input": [
      "a = gpu\n",
      "\n",
      "df = pd.concat([s.resample('H') for s in a.itervalues()], join=\"outer\", axis=1)\n",
      "df.columns = a.keys()\n",
      "graph  = df.ix[:,sorted(a.keys())].boxplot(rot=90)"
     ],
     "language": "python",
     "metadata": {},
     "outputs": [
      {
       "metadata": {},
       "output_type": "display_data",
       "png": "[encoded data removed]",
       "text": [
        "<matplotlib.figure.Figure at 0x5b4bed0>"
       ]
      }
     ],
     "prompt_number": 13
    },
    {
     "cell_type": "markdown",
     "metadata": {},
     "source": [
      "##Snapper instance"
     ]
    },
    {
     "cell_type": "code",
     "collapsed": false,
     "input": [
      "a = snapper\n",
      "df = pd.concat([s.resample('H') for s in a.itervalues()], join=\"outer\", axis=1)\n",
      "df.columns = a.keys()\n",
      "graph  = df.ix[:,sorted(a.keys())].boxplot(rot=90)"
     ],
     "language": "python",
     "metadata": {},
     "outputs": [
      {
       "metadata": {},
       "output_type": "display_data",
       "png": "[encoded data removed]",
       "text": [
        "<matplotlib.figure.Figure at 0x5b4f710>"
       ]
      }
     ],
     "prompt_number": 14
    },
    {
     "cell_type": "markdown",
     "metadata": {},
     "source": [
      "###Different instance types and their specs\n",
      "http://aws.amazon.com/ec2/instance-types/#instance-details"
     ]
    },
    {
     "cell_type": "markdown",
     "metadata": {},
     "source": [
      "##EBS and S3 and Glacier\n",
      "<img src=\"files/EBS.png\"> <img src=\"files/Glacier.png\" > <img src=\"files/S3.png\">\n",
      "\n",
      "###EBS volumes are nice\n",
      "- Mount directly to device (can use it like a hard drive)\n",
      "- Simple way to maintain state (keep tools and results there)\n",
      " - if instance dies, you still have what you are working on.\n",
      "####but\n",
      "- tie you to an availability zone (see above)\n",
      "- can't archive to Glacier if you are not going to need it for a while\n",
      "\n",
      "https://console.aws.amazon.com/s3/home?region=us-east-1"
     ]
    },
    {
     "cell_type": "code",
     "collapsed": false,
     "input": [
      "ls /home/sgeadmin/notebooks"
     ],
     "language": "python",
     "metadata": {},
     "outputs": []
    },
    {
     "cell_type": "code",
     "collapsed": false,
     "input": [
      "import boto\n",
      "from boto.s3.key import Key\n",
      "conn = boto.connect_s3()\n",
      "\n",
      "meta_bucket = conn.get_bucket('ndprice-aws-meta')\n",
      "for f in meta_bucket.list():\n",
      "    print \"[%s]  [%s] [%i] \" % (f.name, f.storage_class, f.size/1024.0)"
     ],
     "language": "python",
     "metadata": {},
     "outputs": [
      {
       "output_type": "stream",
       "stream": "stdout",
       "text": [
        "[bootstrap-files/bootstrap-user.tar.gz]  [STANDARD] [44] \n",
        "[image-profiles/ami-5ffbba36-packages.log]  [STANDARD] [21] \n",
        "[image-profiles/ami-9b0924f2-build-history.log]  [REDUCED_REDUNDANCY] [1] \n",
        "[image-profiles/ami-9b0924f2-packages.log]  [REDUCED_REDUNDANCY] [22] \n",
        "[working-files/gpu-data-home.tar.gz]  [STANDARD] [443] \n",
        "[working-files/user-bootstrap.sh]  [STANDARD] [0] \n"
       ]
      }
     ],
     "prompt_number": 15
    },
    {
     "cell_type": "code",
     "collapsed": false,
     "input": [
      "bucket = conn.create_bucket('ndprice-presentation')\n",
      "presentation = Key(bucket)\n",
      "presentation.key = 'LabMeetingPresentation.ipynb'\n",
      "presentation.storage_class = 'REDUCED_REDUNDANCY'\n",
      "presentation.set_contents_from_filename('/home/sgeadmin/notebooks/LabMeetingPresentation.ipynb')\n",
      "for f in bucket.list():\n",
      "    print \"[%s]  [%s] [%i] \" % (f.name, f.storage_class, f.size/1024.0)"
     ],
     "language": "python",
     "metadata": {},
     "outputs": [
      {
       "output_type": "stream",
       "stream": "stdout",
       "text": [
        "[LabMeetingPresentation.ipynb]  [REDUCED_REDUNDANCY] [133] \n"
       ]
      }
     ],
     "prompt_number": 16
    },
    {
     "cell_type": "markdown",
     "metadata": {},
     "source": [
      "#Using command line tools\n",
      "https://github.com/aws/aws-cli"
     ]
    },
    {
     "cell_type": "code",
     "collapsed": true,
     "input": [
      "%%bash\n",
      "ipython nbconvert --to html LabMeetingPresentation.ipynb\n",
      "ls\n",
      "aws --region us-east-1 s3 cp LabMeetingPresentation.html s3://aurea-api/LabMeetingPresentation.html\n",
      "aws --region us-east-1 s3 cp . s3://aurea-api --recursive --exclude=\"*\" --include=\"*.png\""
     ],
     "language": "python",
     "metadata": {},
     "outputs": [
      {
       "output_type": "stream",
       "stream": "stdout",
       "text": [
        "AWS_ac_ra_largescale_05.jpg.1\n",
        "AWS_ac_ra_largescale_05.jpg.2\n",
        "AWS_Simple_Icons_svg_eps.zip.1\n",
        "cloud.png\n",
        "default.ipynb\n",
        "EBS.png\n",
        "EC2-Instance.png\n",
        "files\n",
        "Glacier.png\n",
        "IAM.png\n",
        "Lab Meeting Presentation.html\n",
        "LabMeetingPresentation.html\n",
        "LabMeetingPresentation.ipynb\n",
        "S3.png\n",
        "scutil.py\n",
        "scutil.pyc\n",
        "StarCluster\n",
        "upload: ./LabMeetingPresentation.html to s3://aurea-api/LabMeetingPresentation.html\n",
        "upload: ./EBS.png to s3://aurea-api/EBS.png\n",
        "Completed 1 part(s) with ... file(s) remaining\r",
        "upload: ./EC2-Instance.png to s3://aurea-api/EC2-Instance.png\n",
        "Completed 2 part(s) with ... file(s) remaining\r",
        "upload: StarCluster/docs/sphinx/_static/ipnotebookdashboard.png to s3://aurea-api/StarCluster/docs/sphinx/_static/ipnotebookdashboard.png\n",
        "Completed 3 part(s) with ... file(s) remaining\r",
        "upload: ./S3.png to s3://aurea-api/S3.png     \n",
        "Completed 4 part(s) with ... file(s) remaining\r",
        "upload: ./Glacier.png to s3://aurea-api/Glacier.png\n",
        "Completed 5 part(s) with ... file(s) remaining\r",
        "upload: StarCluster/docs/sphinx/_static/forkproject.png to s3://aurea-api/StarCluster/docs/sphinx/_static/forkproject.png\n",
        "Completed 6 part(s) with ... file(s) remaining\r",
        "upload: StarCluster/docs/sphinx/_static/balancer_visualizer.png to s3://aurea-api/StarCluster/docs/sphinx/_static/balancer_visualizer.png\n",
        "Completed 7 part(s) with ... file(s) remaining\r",
        "upload: StarCluster/docs/sphinx/_static/hadoopnamenode.png to s3://aurea-api/StarCluster/docs/sphinx/_static/hadoopnamenode.png\n",
        "Completed 8 part(s) with ... file(s) remaining\r",
        "upload: StarCluster/docs/sphinx/_static/ipnotebookbusy.png to s3://aurea-api/StarCluster/docs/sphinx/_static/ipnotebookbusy.png\n",
        "Completed 9 part(s) with ... file(s) remaining\r",
        "upload: StarCluster/docs/sphinx/_static/hadooptracker.png to s3://aurea-api/StarCluster/docs/sphinx/_static/hadooptracker.png\n",
        "Completed 10 part(s) with ... file(s) remaining\r",
        "upload: StarCluster/docs/sphinx/_static/ipnotebookdownload.png to s3://aurea-api/StarCluster/docs/sphinx/_static/ipnotebookdownload.png\n",
        "Completed 11 part(s) with ... file(s) remaining\r",
        "upload: StarCluster/docs/sphinx/_static/logo-small.png to s3://aurea-api/StarCluster/docs/sphinx/_static/logo-small.png\n",
        "Completed 12 part(s) with ... file(s) remaining\r",
        "upload: StarCluster/docs/sphinx/_static/ipnotebookrename.png to s3://aurea-api/StarCluster/docs/sphinx/_static/ipnotebookrename.png\n",
        "Completed 13 part(s) with ... file(s) remaining\r",
        "upload: StarCluster/docs/sphinx/_static/ipnotebooklogin.png to s3://aurea-api/StarCluster/docs/sphinx/_static/ipnotebooklogin.png\n",
        "Completed 14 part(s) with ... file(s) remaining\r",
        "upload: ./IAM.png to s3://aurea-api/IAM.png    \n",
        "Completed 15 part(s) with ... file(s) remaining\r",
        "upload: StarCluster/docs/sphinx/_static/logo.png to s3://aurea-api/StarCluster/docs/sphinx/_static/logo.png\n",
        "Completed 16 part(s) with ... file(s) remaining\r",
        "upload: StarCluster/docs/sphinx/_static/spothistory.png to s3://aurea-api/StarCluster/docs/sphinx/_static/spothistory.png\n",
        "Completed 17 part(s) with ... file(s) remaining\r",
        "upload: StarCluster/docs/sphinx/_themes/pylons/static/dialog-note.png to s3://aurea-api/StarCluster/docs/sphinx/_themes/pylons/static/dialog-note.png\n",
        "Completed 18 part(s) with ... file(s) remaining\r",
        "upload: StarCluster/docs/sphinx/_static/ipnotebooknew.png to s3://aurea-api/StarCluster/docs/sphinx/_static/ipnotebooknew.png\n",
        "Completed 19 part(s) with ... file(s) remaining\r",
        "upload: StarCluster/docs/sphinx/_static/scoverview.png to s3://aurea-api/StarCluster/docs/sphinx/_static/scoverview.png\n",
        "Completed 20 part(s) with ... file(s) remaining\r",
        "upload: StarCluster/docs/sphinx/_static/ipnotebookparallel.png to s3://aurea-api/StarCluster/docs/sphinx/_static/ipnotebookparallel.png\n",
        "Completed 21 part(s) with ... file(s) remaining\r",
        "upload: StarCluster/docs/sphinx/_themes/pylons/static/dialog-topic.png to s3://aurea-api/StarCluster/docs/sphinx/_themes/pylons/static/dialog-topic.png\n",
        "Completed 22 part(s) with ... file(s) remaining\r",
        "upload: StarCluster/docs/sphinx/_themes/pylons/static/headerbg.png to s3://aurea-api/StarCluster/docs/sphinx/_themes/pylons/static/headerbg.png\n",
        "Completed 23 part(s) with ... file(s) remaining\r",
        "upload: StarCluster/docs/sphinx/_themes/pylons/static/dialog-seealso.png to s3://aurea-api/StarCluster/docs/sphinx/_themes/pylons/static/dialog-seealso.png\n",
        "Completed 24 part(s) with ... file(s) remaining\r",
        "upload: StarCluster/docs/sphinx/_themes/pylons/static/middlebg.png to s3://aurea-api/StarCluster/docs/sphinx/_themes/pylons/static/middlebg.png\n",
        "Completed 25 part(s) with ... file(s) remaining\r",
        "upload: StarCluster/docs/sphinx/_themes/pylons/static/dialog-warning.png to s3://aurea-api/StarCluster/docs/sphinx/_themes/pylons/static/dialog-warning.png\n",
        "Completed 26 part(s) with ... file(s) remaining\r",
        "upload: StarCluster/docs/sphinx/_themes/pylons/static/pylons-latex.png to s3://aurea-api/StarCluster/docs/sphinx/_themes/pylons/static/pylons-latex.png\n",
        "Completed 27 part(s) with ... file(s) remaining\r",
        "upload: StarCluster/docs/sphinx/_static/tmuxcc.png to s3://aurea-api/StarCluster/docs/sphinx/_static/tmuxcc.png\n",
        "Completed 28 part(s) with ... file(s) remaining\r",
        "upload: StarCluster/docs/sphinx/_themes/pylons/static/pylons-small.png to s3://aurea-api/StarCluster/docs/sphinx/_themes/pylons/static/pylons-small.png\n",
        "Completed 29 part(s) with ... file(s) remaining\r",
        "upload: StarCluster/docs/sphinx/_themes/pylons/static/footerbg.png to s3://aurea-api/StarCluster/docs/sphinx/_themes/pylons/static/footerbg.png\n",
        "Completed 30 of 42 part(s) with 12 file(s) remaining\r",
        "upload: StarCluster/starcluster/templates/web/imgs/arrow-up.png to s3://aurea-api/StarCluster/starcluster/templates/web/imgs/arrow-up.png\n",
        "Completed 31 of 42 part(s) with 11 file(s) remaining\r",
        "upload: StarCluster/starcluster/templates/web/imgs/arrow-down.png to s3://aurea-api/StarCluster/starcluster/templates/web/imgs/arrow-down.png\n",
        "Completed 32 of 42 part(s) with 10 file(s) remaining\r",
        "upload: StarCluster/docs/sphinx/_themes/pylons/static/pylons.png to s3://aurea-api/StarCluster/docs/sphinx/_themes/pylons/static/pylons.png\n",
        "Completed 33 of 42 part(s) with 9 file(s) remaining\r",
        "upload: StarCluster/docs/sphinx/_themes/starcluster/static/headerbg.png to s3://aurea-api/StarCluster/docs/sphinx/_themes/starcluster/static/headerbg.png\n",
        "Completed 34 of 42 part(s) with 8 file(s) remaining\r",
        "upload: StarCluster/starcluster/templates/web/imgs/arrow-left.png to s3://aurea-api/StarCluster/starcluster/templates/web/imgs/arrow-left.png\n",
        "Completed 35 of 42 part(s) with 7 file(s) remaining\r",
        "upload: StarCluster/starcluster/templates/web/imgs/reset.png to s3://aurea-api/StarCluster/starcluster/templates/web/imgs/reset.png\n",
        "Completed 36 of 42 part(s) with 6 file(s) remaining\r",
        "upload: StarCluster/starcluster/templates/web/imgs/zoomin.png to s3://aurea-api/StarCluster/starcluster/templates/web/imgs/zoomin.png\n",
        "Completed 37 of 42 part(s) with 5 file(s) remaining\r",
        "upload: StarCluster/starcluster/templates/web/imgs/arrow-right.png to s3://aurea-api/StarCluster/starcluster/templates/web/imgs/arrow-right.png\n",
        "Completed 38 of 42 part(s) with 4 file(s) remaining\r",
        "upload: StarCluster/starcluster/templates/web/imgs/controlsbg.png to s3://aurea-api/StarCluster/starcluster/templates/web/imgs/controlsbg.png\n",
        "Completed 39 of 42 part(s) with 3 file(s) remaining\r",
        "upload: StarCluster/starcluster/templates/web/imgs/zoomout.png to s3://aurea-api/StarCluster/starcluster/templates/web/imgs/zoomout.png\n",
        "Completed 40 of 42 part(s) with 2 file(s) remaining\r",
        "upload: files/IAM.png to s3://aurea-api/files/IAM.png\n",
        "Completed 41 of 42 part(s) with 1 file(s) remaining\r",
        "upload: ./cloud.png to s3://aurea-api/cloud.png    \n"
       ]
      },
      {
       "output_type": "stream",
       "stream": "stderr",
       "text": [
        "[NbConvertApp] Using existing profile dir: u'/home/sgeadmin/.ipython/profile_default'\n",
        "[NbConvertApp] Converting notebook LabMeetingPresentation.ipynb to html\n",
        "[NbConvertApp] Support files will be in LabMeetingPresentation_files/\n",
        "[NbConvertApp] Loaded template html_full.tpl\n",
        "[NbConvertApp] Writing 355067 bytes to LabMeetingPresentation.html\n"
       ]
      }
     ],
     "prompt_number": 24
    },
    {
     "cell_type": "markdown",
     "metadata": {},
     "source": [
      "###View static html of this on s3 via \n",
      "http://aurea-api.s3-website-us-east-1.amazonaws.com/LabMeetingPresentation.html"
     ]
    },
    {
     "cell_type": "code",
     "collapsed": false,
     "input": [
      "display(Image('files/AWS_ac_ra_largescale_05.jpg'))"
     ],
     "language": "python",
     "metadata": {},
     "outputs": []
    },
    {
     "cell_type": "code",
     "collapsed": false,
     "input": [
      "ls"
     ],
     "language": "python",
     "metadata": {},
     "outputs": [
      {
       "output_type": "stream",
       "stream": "stdout",
       "text": [
        "AWS_ac_ra_largescale_05.jpg.1   IAM.png\r\n",
        "AWS_ac_ra_largescale_05.jpg.2   Lab Meeting Presentation.html\r\n",
        "AWS_Simple_Icons_svg_eps.zip.1  LabMeetingPresentation.html\r\n",
        "cloud.png                       LabMeetingPresentation.ipynb\r\n",
        "default.ipynb                   S3.png\r\n",
        "EBS.png                         scutil.py\r\n",
        "EC2-Instance.png                scutil.pyc\r\n",
        "\u001b[0m\u001b[01;34mfiles\u001b[0m/                          \u001b[01;34mStarCluster\u001b[0m/\r\n",
        "Glacier.png\r\n"
       ]
      }
     ],
     "prompt_number": 18
    },
    {
     "cell_type": "code",
     "collapsed": false,
     "input": [],
     "language": "python",
     "metadata": {},
     "outputs": []
    },
    {
     "cell_type": "code",
     "collapsed": false,
     "input": [
      "ls /home/sgeadmin"
     ],
     "language": "python",
     "metadata": {},
     "outputs": []
    },
    {
     "cell_type": "markdown",
     "metadata": {},
     "source": [
      "#Suggested Reading"
     ]
    },
    {
     "cell_type": "markdown",
     "metadata": {},
     "source": [
      "[[http://www.nicholasgcarr.com/bigswitch/]]"
     ]
    },
    {
     "cell_type": "code",
     "collapsed": false,
     "input": [
      "%%bash\n",
      "cd /home/sgeadmin\n",
      "ls\n",
      "tar -zcvf big-glob.tar.gz ./* .*\n"
     ],
     "language": "python",
     "metadata": {},
     "outputs": [],
     "prompt_number": "*"
    },
    {
     "cell_type": "code",
     "collapsed": false,
     "input": [
      "ls"
     ],
     "language": "python",
     "metadata": {},
     "outputs": [],
     "prompt_number": "*"
    },
    {
     "cell_type": "code",
     "collapsed": false,
     "input": [],
     "language": "python",
     "metadata": {},
     "outputs": []
    }
   ],
   "metadata": {}
  }
 ]
}