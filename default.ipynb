{
 "metadata": {
  "name": ""
 },
 "nbformat": 3,
 "nbformat_minor": 0,
 "worksheets": [
  {
   "cells": [
    {
     "cell_type": "code",
     "collapsed": false,
     "input": [
      "import boto\n",
      "s3 = boto.connect_s3()"
     ],
     "language": "python",
     "metadata": {},
     "outputs": [],
     "prompt_number": 1
    },
    {
     "cell_type": "code",
     "collapsed": false,
     "input": [
      "for bucket in s3.get_all_buckets():\n",
      "    print bucket"
     ],
     "language": "python",
     "metadata": {},
     "outputs": [
      {
       "output_type": "stream",
       "stream": "stdout",
       "text": [
        "<Bucket: AUREA_API>\n",
        "<Bucket: aurea-api>\n",
        "<Bucket: aurea-downloads>\n",
        "<Bucket: cf-templates-e0ona3toj3um-us-east-1>\n",
        "<Bucket: diraclog>\n",
        "<Bucket: hd_source_data>\n",
        "<Bucket: hd_working_0>\n",
        "<Bucket: matlab_cloud_dep>\n",
        "<Bucket: natGsourceData>\n",
        "<Bucket: nathan-hd>\n",
        "<Bucket: ndprice-aws-meta>\n",
        "<Bucket: ndprice_jacod_data>\n",
        "<Bucket: ndprice_jcearls_default>\n",
        "<Bucket: ndprice_jcearls_hdPoster>\n",
        "<Bucket: ndprice_jcearls_hddydiracdata>\n",
        "<Bucket: ndprice_jcearls_hdfisher>\n",
        "<Bucket: ndprice_jcearls_hdfisherdiff>\n",
        "<Bucket: ndprice_jcearls_hdpvals>\n",
        "<Bucket: tcdirac-fromgpu-00>\n",
        "<Bucket: tcdirac-togpu-00>\n"
       ]
      }
     ],
     "prompt_number": 2
    },
    {
     "cell_type": "code",
     "collapsed": false,
     "input": [
      "\n",
      "bucket = s3.get_bucket('ndprice-aws-meta')\n",
      "for key in bucket.get_all_keys():\n",
      "    print key"
     ],
     "language": "python",
     "metadata": {},
     "outputs": [
      {
       "output_type": "stream",
       "stream": "stdout",
       "text": [
        "<Key: ndprice-aws-meta,bootstrap-files/bootstrap-user.tar.gz>\n",
        "<Key: ndprice-aws-meta,image-profiles/ami-5ffbba36-packages.log>\n",
        "<Key: ndprice-aws-meta,image-profiles/ami-9b0924f2-build-history.log>\n",
        "<Key: ndprice-aws-meta,image-profiles/ami-9b0924f2-packages.log>\n"
       ]
      }
     ],
     "prompt_number": 5
    },
    {
     "cell_type": "code",
     "collapsed": false,
     "input": [
      "import hashlib\n",
      "\n",
      "m = hashlib.md5()\n",
      "m.update('test')\n",
      "m.digest()"
     ],
     "language": "python",
     "metadata": {},
     "outputs": [
      {
       "metadata": {},
       "output_type": "pyout",
       "prompt_number": 1,
       "text": [
        "\"\\t\\x8fk\\xcdF!\\xd3s\\xca\\xdeN\\x83&'\\xb4\\xf6\""
       ]
      }
     ],
     "prompt_number": 1
    },
    {
     "cell_type": "code",
     "collapsed": false,
     "input": [
      "import multiprocessing\n",
      "import ctypes\n",
      "x = multiprocessing.Array(ctypes.c_char, 16)\n",
      "with x.get_lock():\n",
      "    x.value = m.hexdigest().decode('hex')"
     ],
     "language": "python",
     "metadata": {},
     "outputs": [],
     "prompt_number": 11
    },
    {
     "cell_type": "code",
     "collapsed": false,
     "input": [
      "x.value"
     ],
     "language": "python",
     "metadata": {},
     "outputs": [
      {
       "metadata": {},
       "output_type": "pyout",
       "prompt_number": 12,
       "text": [
        "\"\\t\\x8fk\\xcdF!\\xd3s\\xca\\xdeN\\x83&'\\xb4\\xf6\""
       ]
      }
     ],
     "prompt_number": 12
    },
    {
     "cell_type": "code",
     "collapsed": false,
     "input": [
      "loc=x.value"
     ],
     "language": "python",
     "metadata": {},
     "outputs": [],
     "prompt_number": 13
    },
    {
     "cell_type": "code",
     "collapsed": false,
     "input": [
      "loc == x.value\n"
     ],
     "language": "python",
     "metadata": {},
     "outputs": [
      {
       "metadata": {},
       "output_type": "pyout",
       "prompt_number": 14,
       "text": [
        "True"
       ]
      }
     ],
     "prompt_number": 14
    },
    {
     "cell_type": "code",
     "collapsed": false,
     "input": [
      "class Test1(object):\n",
      "    def clear(self):\n",
      "        self.horse = None\n",
      "        \n",
      "class Test2(Test1):\n",
      "    def __init__(self):\n",
      "        self.horse = 'neigh'\n",
      "\n",
      "    def phorse(self):\n",
      "        print self.horse\n",
      "\n",
      "a = Test2()\n",
      "a.phorse()\n",
      "a.clear()\n",
      "a.phorse()"
     ],
     "language": "python",
     "metadata": {},
     "outputs": [
      {
       "output_type": "stream",
       "stream": "stdout",
       "text": [
        "neigh\n",
        "None\n"
       ]
      }
     ],
     "prompt_number": 15
    },
    {
     "cell_type": "code",
     "collapsed": false,
     "input": [],
     "language": "python",
     "metadata": {},
     "outputs": []
    }
   ],
   "metadata": {}
  }
 ]
}